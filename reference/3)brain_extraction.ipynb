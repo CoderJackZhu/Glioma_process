{
 "cells": [
  {
   "cell_type": "markdown",
   "metadata": {},
   "source": [
    "### Brain extraction (Skull stripping)\n",
    "\n",
    "Brain extraction tool: https://pypi.org/project/deepbrain/"
   ]
  },
  {
   "cell_type": "code",
   "execution_count": null,
   "metadata": {},
   "outputs": [],
   "source": [
    "import shutil\n",
    "import gc\n",
    "import os\n",
    "import numpy as np\n",
    "import nibabel as nib\n",
    "import matplotlib.pyplot as plt\n",
    "from deepbrain import Extractor\n",
    "\n",
    "import sys\n",
    "sys.path.append('../')\n",
    "from utils.myUtils import *\n",
    "from utils.brainImageUtils import *\n",
    "from mySettings import get_path_dict_by_datatype,get_preprocessing_type_list,get_preprocess_normalize_path_dict,get_experiment_key"
   ]
  },
  {
   "cell_type": "code",
   "execution_count": null,
   "metadata": {},
   "outputs": [],
   "source": [
    "'''\n",
    "Run brain Extraction by deepbrain package.\n",
    "See https://github.com/iitzco/deepbrain/blob/master/bin/deepbrain-extractor.\n",
    "'''\n",
    "def extract_brain_mask(image_path, save_brain_mask_path, save_visualize_basic_path, show_results=False):\n",
    "    print('\\nBegin to extract the brain of {}.'.format(image_path))\n",
    "    \n",
    "    # read data\n",
    "    image=nib.load(image_path)\n",
    "    affine = image.affine\n",
    "    image = image.get_fdata()\n",
    "    \n",
    "    #extract brain\n",
    "    ext = Extractor()\n",
    "    prob = ext.run(image)  # `prob` will be a 3d numpy image containing probability of being brain tissue for each of the voxels in `img`\n",
    "    mask = prob > 0.5 \n",
    "    \n",
    "    \n",
    "    #Save mask as nifti\n",
    "    brain_mask = (1 * mask).astype(np.uint8)\n",
    "    brain_mask = nib.Nifti1Image(brain_mask, affine)\n",
    "    nib.save(brain_mask, save_brain_mask_path)\n",
    "    print('\\n Finsh saving the mask to {}.'.format(save_brain_mask_path))\n",
    "    \n",
    "    #show the brain extraction results\n",
    "    if show_results:\n",
    "        show_brain_extraction_results(image_path, save_brain_mask_path, save_visualize_basic_path)\n",
    "        \n",
    "        \n",
    "'''\n",
    "Show brain MRI data and the extracted brain mask.\n",
    "'''\n",
    "def show_brain_extraction_results(image_path, mask_path, save_visualize_path, axis=\"transverse\"):\n",
    "\n",
    "    #read data\n",
    "    image=nib.load(image_path).get_fdata()\n",
    "    mask=nib.load(mask_path).get_fdata()\n",
    "    \n",
    "    #show the 3D image slice by slice\n",
    "    axis_index=get_axis_index()\n",
    "    number_of_slices=image.shape[axis_index[axis]]\n",
    "    for index in range(0, number_of_slices):\n",
    "        image_slice=get_image_slice(image, axis, index)\n",
    "        mask_slice=get_image_slice(mask, axis, index)\n",
    "        \n",
    "        plt.figure(figsize=(15,5))\n",
    "        sub_fig=plt.subplot(1,3, 1)\n",
    "        sub_fig.set_title(\"image\", fontsize=12)\n",
    "        plt.axis('off')\n",
    "        plt.imshow(image_slice, aspect='auto',cmap='gray')\n",
    "        \n",
    "        sub_fig=plt.subplot(1,3,2)\n",
    "        sub_fig.set_title(\"mask\", fontsize=12)\n",
    "        plt.axis('off')\n",
    "        plt.imshow(mask_slice*255, aspect='auto',cmap='gray')\n",
    "        \n",
    "        sub_fig=plt.subplot(1,3,3)\n",
    "        sub_fig.set_title(\"mask over image\", fontsize=12)\n",
    "        plt.axis('off')\n",
    "        plt.imshow(image_slice, aspect='auto',cmap='gray')\n",
    "        plt.imshow(mask_slice, alpha=0.1, aspect='auto')\n",
    "\n",
    "        plt.subplots_adjust(left=0.03, bottom=0.03, right=0.97, top=0.9,  wspace=0.03, hspace=0)   \n",
    "        basename=os.path.basename(image_path)\n",
    "        save_path= save_visualize_path+'/'+ basename[:-7]+'_'+str(index)+'.png'\n",
    "        plt.savefig(save_path)\n",
    "        #plt.show()\n",
    "        \n",
    "        # Clear the current axes.\n",
    "        plt.cla() \n",
    "        # Clear the current figure.\n",
    "        plt.clf() \n",
    "        # Closes all the figure windows.\n",
    "        plt.close('all')\n",
    "        gc.collect()"
   ]
  },
  {
   "cell_type": "code",
   "execution_count": null,
   "metadata": {},
   "outputs": [],
   "source": [
    "'''\n",
    "Perform brain mask extraction for images in a given folder.\n",
    "'''\n",
    "def perform_brain_mask_extraction(registed_image_base_path, save_brain_mask_base_path, save_visualize_base_path):\n",
    "    registed_image_paths=get_filenames(registed_image_base_path, '.nii.gz')\n",
    "    print(\"\\n Extracting brain masks! \\n There are {} images in {}.\".format(len(registed_image_paths), registed_image_base_path))\n",
    "    \n",
    "    num_images=len(registed_image_paths)\n",
    "    i=0\n",
    "    for registed_image_path in registed_image_paths:\n",
    "        i=i+1\n",
    "        print(\"=============brain extraction: {}/{}========\".format(i, num_images))\n",
    "        save_brain_mask_path=save_brain_mask_base_path+'/'+os.path.basename(registed_image_path)\n",
    "        save_visualize_path=save_visualize_base_path+'/'+os.path.basename(registed_image_path)[:-7]\n",
    "        mkdir(save_visualize_path)\n",
    "        extract_brain_mask(registed_image_path, save_brain_mask_path, save_visualize_path)"
   ]
  },
  {
   "cell_type": "markdown",
   "metadata": {},
   "source": [
    "### Main: brain extraction"
   ]
  },
  {
   "cell_type": "code",
   "execution_count": null,
   "metadata": {},
   "outputs": [],
   "source": [
    "def main_brain_extraction():\n",
    "    #basic settings\n",
    "    preprocess_type_list=get_preprocessing_type_list()\n",
    "    experiment_key_list=get_experiment_key()\n",
    "    \n",
    "    #extract brain mask according to defined preprocess type.\n",
    "    for preprocess_type in preprocess_type_list:   \n",
    "        print(\"====================================preprocess_type={}================================================\".format(preprocess_type))\n",
    "        registered_image_path_dict=get_preprocess_normalize_path_dict(path_type='registered_images', preprocess_type=preprocess_type)\n",
    "        brain_mask_path_dict=get_preprocess_normalize_path_dict(path_type='brain_mask', preprocess_type=preprocess_type)\n",
    "        check_brain_mask_path_dict=get_preprocess_normalize_path_dict(path_type='check_brain_mask', preprocess_type=preprocess_type)\n",
    "        for experiment_key in experiment_key_list:\n",
    "            print(\"============={}=============\".format(experiment_key))\n",
    "            registered_image_dir=registered_image_path_dict[experiment_key]\n",
    "            save_brain_mask_dir=brain_mask_path_dict[experiment_key]\n",
    "            save_check_brain_mask_dir=check_brain_mask_path_dict[experiment_key]\n",
    "            perform_brain_mask_extraction(registered_image_dir, save_brain_mask_dir, save_check_brain_mask_dir)"
   ]
  },
  {
   "cell_type": "code",
   "execution_count": null,
   "metadata": {},
   "outputs": [],
   "source": [
    "\n",
    "main_brain_extraction()\n"
   ]
  },
  {
   "cell_type": "markdown",
   "metadata": {},
   "source": [
    "### Copy brain mask of the fixed image to the moving images.\n",
    "\n",
    "When doing the intensity normalization, since the images have been registered, we need to keep consistent brain mask of the registered images. So we use the brain mask of the fixed images as the brain mask of the moving images."
   ]
  },
  {
   "cell_type": "code",
   "execution_count": null,
   "metadata": {},
   "outputs": [],
   "source": [
    "def perform_unify_brain_mask(brain_mask_dir, consistent_brain_mask_dir, registration_info_txt):\n",
    "    registration_info_dict=parse_registration_info_txt(registration_info_txt)\n",
    "    for patient, registration_info in registration_info_dict.items():\n",
    "        \n",
    "        transform=registration_info[\"transform\"]\n",
    "        fixed_image_name=registration_info[\"fixed_image\"]\n",
    "        moving_image_name_list=registration_info[\"moving_image_list\"]\n",
    "        \n",
    "        orig_fixed_image_path=os.path.join(brain_mask_dir, fixed_image_name+ '.nii.gz')\n",
    "        for image_name in [fixed_image_name]+moving_image_name_list:\n",
    "            \n",
    "            dest_image_path=os.path.join(consistent_brain_mask_dir, image_name+ '.nii.gz')\n",
    "            shutil.copy(orig_fixed_image_path, dest_image_path)\n",
    "            \n",
    "            \n",
    "    \n",
    "def main_consistent_brain_masks():\n",
    "    #basic settings\n",
    "    preprocess_type_list=get_preprocessing_type_list()\n",
    "    experiment_key_list=get_experiment_key()\n",
    "    registration_info_txt_dict=get_path_dict_by_datatype(data_type='registration_info')\n",
    "    \n",
    "    #extract brain mask according to defined preprocess type.\n",
    "    for preprocess_type in preprocess_type_list:   \n",
    "        print(\"====================================preprocess_type={}================================================\".format(preprocess_type))\n",
    "        brain_mask_path_dict=get_preprocess_normalize_path_dict(path_type='brain_mask', preprocess_type=preprocess_type)\n",
    "        consistent_brain_mask_path_dict=get_preprocess_normalize_path_dict(path_type='consistent_brain_mask', preprocess_type=preprocess_type)\n",
    "        for experiment_key in experiment_key_list:\n",
    "            print(\"============={}=============\".format(experiment_key))\n",
    "            brain_mask_dir=brain_mask_path_dict[experiment_key]\n",
    "            consistent_brain_mask_dir=consistent_brain_mask_path_dict[experiment_key]\n",
    "            registration_info_txt=registration_info_txt_dict[experiment_key]\n",
    "            \n",
    "            perform_unify_brain_mask(brain_mask_dir, consistent_brain_mask_dir, registration_info_txt)\n",
    "\n"
   ]
  },
  {
   "cell_type": "code",
   "execution_count": null,
   "metadata": {},
   "outputs": [],
   "source": [
    "main_consistent_brain_masks()"
   ]
  },
  {
   "cell_type": "markdown",
   "metadata": {},
   "source": [
    "### Brain extraction for the unregistered images, for illustration of the image histogram"
   ]
  },
  {
   "cell_type": "code",
   "execution_count": null,
   "metadata": {},
   "outputs": [],
   "source": [
    "def main_brain_extraction_unregisteredImages():\n",
    "    #basic settings\n",
    "    preprocess_type_list=get_preprocessing_type_list()\n",
    "    experiment_key_list=get_experiment_key()\n",
    "    \n",
    "    #extract brain mask according to defined preprocess type.\n",
    "    for preprocess_type in preprocess_type_list:   \n",
    "        print(\"====================================preprocess_type={}================================================\".format(preprocess_type))\n",
    "        registered_image_path_dict=get_preprocess_normalize_path_dict(path_type='preprocessed_data', preprocess_type=preprocess_type)\n",
    "        brain_mask_path_dict=get_preprocess_normalize_path_dict(path_type='brain_mask_unregistered', preprocess_type=preprocess_type)\n",
    "        check_brain_mask_path_dict=get_preprocess_normalize_path_dict(path_type='check_brain_mask_unregistered', preprocess_type=preprocess_type)\n",
    "        for experiment_key in experiment_key_list:\n",
    "            print(\"============={}=============\".format(experiment_key))\n",
    "            registered_image_dir=registered_image_path_dict[experiment_key]\n",
    "            save_brain_mask_dir=brain_mask_path_dict[experiment_key]\n",
    "            save_check_brain_mask_dir=check_brain_mask_path_dict[experiment_key]\n",
    "            perform_brain_mask_extraction(registered_image_dir, save_brain_mask_dir, save_check_brain_mask_dir)"
   ]
  },
  {
   "cell_type": "code",
   "execution_count": null,
   "metadata": {},
   "outputs": [],
   "source": [
    "main_brain_extraction_unregisteredImages()"
   ]
  }
 ],
 "metadata": {
  "kernelspec": {
   "display_name": "Python 3",
   "language": "python",
   "name": "python3"
  },
  "language_info": {
   "codemirror_mode": {
    "name": "ipython",
    "version": 3
   },
   "file_extension": ".py",
   "mimetype": "text/x-python",
   "name": "python",
   "nbconvert_exporter": "python",
   "pygments_lexer": "ipython3",
   "version": "3.7.9"
  }
 },
 "nbformat": 4,
 "nbformat_minor": 2
}
