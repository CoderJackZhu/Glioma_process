{
 "cells": [
  {
   "cell_type": "markdown",
   "metadata": {},
   "source": [
    "## 1. Find the list of the patients whose pathological info still needs to be found?\n",
    "- Give Doctor Zhang the id list of 2065 patients who have all the four MRI sequences(T1, T1+C, T2, T2 Flair);\n",
    "- Doctor Zhang gave back the pathological info of 1366 patients;\n",
    "\n",
    "So where is the pathological info of other patients? Find the patient id list and ask again.\n"
   ]
  },
  {
   "cell_type": "code",
   "execution_count": null,
   "metadata": {},
   "outputs": [],
   "source": [
    "import os\n",
    "import pandas as pd"
   ]
  },
  {
   "cell_type": "code",
   "execution_count": null,
   "metadata": {},
   "outputs": [],
   "source": [
    "# data path\n",
    "base_path=\"G://metaData\"\n",
    "excel_path_1=os.path.join(base_path, \"PatientIDList_4Sequences.xlsx\")\n",
    "excel_path_2=os.path.join(base_path, \"PathologicalData_DropNull_20230330.xls\")\n",
    "save_excel_path=os.path.join(base_path, \"PatientID_lackOfPathologicalData.xlsx\")\n",
    "\n",
    "#read the data and get the patient id list\n",
    "Data1=pd.read_excel(excel_path_1,header=0) \n",
    "Data2=pd.read_excel(excel_path_2,header=0) #index_col=0\n",
    "Data1.head(10)\n",
    "Data2.head(10)\n",
    "\n",
    "PatientID_list1=Data1['PatientID'].astype('str')\n",
    "PatientID_list2=Data2['PatientID'].astype('str')\n",
    "print(\"------ID list 1: ----- \\n {}.\\n\".format(PatientID_list1))\n",
    "print(\"------ID list 2: ----- \\n {}. \\n\".format(PatientID_list2))\n",
    "\n",
    "\n",
    "# Subtraction of patient id lists\n",
    "subtraction_ID_list=list(set(PatientID_list1) - set(PatientID_list2))\n",
    "subtraction_ID_DataFrame=pd.DataFrame(subtraction_ID_list, columns=[\"PatientID\"])\n",
    "print(\"------subtraction of ID list 1 and ID list 2: -----\")\n",
    "subtraction_ID_DataFrame.to_excel(save_excel_path)\n",
    "subtraction_ID_DataFrame"
   ]
  },
  {
   "cell_type": "code",
   "execution_count": null,
   "metadata": {},
   "outputs": [],
   "source": []
  },
  {
   "cell_type": "code",
   "execution_count": null,
   "metadata": {},
   "outputs": [],
   "source": []
  },
  {
   "cell_type": "code",
   "execution_count": null,
   "metadata": {},
   "outputs": [],
   "source": []
  },
  {
   "cell_type": "code",
   "execution_count": null,
   "metadata": {},
   "outputs": [],
   "source": []
  },
  {
   "cell_type": "code",
   "execution_count": null,
   "metadata": {},
   "outputs": [],
   "source": []
  }
 ],
 "metadata": {
  "kernelspec": {
   "display_name": "Python 3",
   "language": "python",
   "name": "python3"
  },
  "language_info": {
   "codemirror_mode": {
    "name": "ipython",
    "version": 3
   },
   "file_extension": ".py",
   "mimetype": "text/x-python",
   "name": "python",
   "nbconvert_exporter": "python",
   "pygments_lexer": "ipython3",
   "version": "3.7.9"
  }
 },
 "nbformat": 4,
 "nbformat_minor": 4
}
