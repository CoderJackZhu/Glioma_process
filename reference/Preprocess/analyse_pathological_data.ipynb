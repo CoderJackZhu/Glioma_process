{
 "cells": [
  {
   "cell_type": "markdown",
   "metadata": {},
   "source": [
    "### Analyse the pathological data.\n"
   ]
  },
  {
   "cell_type": "code",
   "execution_count": 1,
   "metadata": {
    "ExecuteTime": {
     "end_time": "2023-07-08T10:00:29.812876200Z",
     "start_time": "2023-07-08T10:00:29.225677900Z"
    }
   },
   "outputs": [],
   "source": [
    "import os\n",
    "import re\n",
    "import pandas as pd"
   ]
  },
  {
   "cell_type": "code",
   "execution_count": 2,
   "metadata": {
    "ExecuteTime": {
     "end_time": "2023-07-08T10:00:29.859353700Z",
     "start_time": "2023-07-08T10:00:29.827876400Z"
    }
   },
   "outputs": [],
   "source": [
    "def analyze_pathological_data(data):\n",
    "    if \"免疫组化结果：\" in data:\n",
    "        data_split=data.split(\"免疫组化结果：\")\n",
    "    else:\n",
    "        data_split=data.split(\"免疫组化：\")\n",
    "    \n",
    "    \"\"\"\n",
    "    1. Analyze the subtype and the WHO grade of gliomas;\n",
    "    \"\"\"\n",
    "    patho_data=data_split[0]\n",
    "    patho_data=patho_data.replace(\"(\", \"（\");\n",
    "    patho_data=patho_data.replace(\")\", \"）\");\n",
    "    WHO_grade=analyze_WHO_grade(patho_data)\n",
    "    lesion_location=analyze_lesion_location(patho_data)\n",
    "    gliomas_subtype=analyze_gliomas_subtype(patho_data)\n",
    "    \n",
    "    \n",
    "    \"\"\"\n",
    "    2. Analyze the status of gene data.\n",
    "    \"\"\"\n",
    "    gene_data, gene_data_list, GFAP, Ki67, P53, IDH, H3_K27M, Olig2, EGFR, ATRX, EMA,  CD34, NeuN,  CgA, Syn=\"\", \"\", \"\", \"\", \"\",\"\", \"\", \"\", \"\", \"\", \"\", \"\", \"\", \"\",\"\" \n",
    "    \n",
    "    if len(data_split)>1:\n",
    "        gene_data=data_split[1]\n",
    "        gene_data=gene_data.replace(\"；\", \"，\");\n",
    "        gene_data=gene_data.replace(\"。\", \"，\");\n",
    "        gene_data=gene_data.replace(\",\", \"，\");\n",
    "        \n",
    "        gene_data_list=gene_data.split(\"，\")\n",
    "        GFAP=analyze_gene_data(gene_data_list, \"GFAP\")\n",
    "        Ki67=analyze_gene_data(gene_data_list, \"Ki67\")\n",
    "        P53=analyze_gene_data(gene_data_list, \"P53\")\n",
    "        IDH=analyze_gene_data(gene_data_list, \"IDH\")\n",
    "        H3_K27M=analyze_gene_data(gene_data_list, \"H3 K27M\")\n",
    "        Olig2=analyze_gene_data(gene_data_list, \"Olig2\")\n",
    "        EGFR=analyze_gene_data(gene_data_list, \"EGFR\")\n",
    "        ATRX=analyze_gene_data(gene_data_list, \"ATRX\")\n",
    "        EMA=analyze_gene_data(gene_data_list, \"EMA\")\n",
    "        CD34=analyze_gene_data(gene_data_list, \"CD34\")\n",
    "        NeuN=analyze_gene_data(gene_data_list, \"NeuN\")\n",
    "        CgA=analyze_gene_data(gene_data_list, \"CgA\")\n",
    "        Syn=analyze_gene_data(gene_data_list, \"Syn\")\n",
    "    \n",
    "    return patho_data, WHO_grade, lesion_location, gliomas_subtype, gene_data,gene_data_list,GFAP,Ki67,P53,IDH,H3_K27M,Olig2,EGFR,ATRX, EMA, CD34, NeuN, CgA, Syn\n",
    "\n",
    "\n",
    "def analyze_WHO_grade(patho_data):\n",
    "\n",
    "    if any(_ in patho_data for _ in [\"WHOⅣ\", \"WHO Ⅳ\", \"WHOIV\", \"WHO IV\", \"WHO4\", \"WHO 4\", \"Ⅳ级\", \"Ⅳ 级\", \"IV级\", \"IV 级\"]):\n",
    "        WHO_grade=4\n",
    "    elif any(_ in patho_data for _ in [\"WHOⅢ\", \"WHO Ⅲ\", \"WHOIII\", \"WHO III\", \"WHO3\", \"WHO 3\", \"Ⅲ级\", \"Ⅲ 级\", \"III级\", \"III 级\"]):\n",
    "        WHO_grade=3\n",
    "    elif any(_ in patho_data for _ in [\"WHOⅡ\", \"WHO Ⅱ\", \"WHO II\", \"WHOII\", \"WHO2\", \"WHO 2\", \"Ⅱ级\", \"Ⅱ 级\", \"II级\", \"II 级\"]):\n",
    "        WHO_grade=2\n",
    "    elif any(_ in patho_data for _ in [\"WHOⅠ\", \"WHO Ⅰ\", \"WHOI\", \"WHO I\", \"WHO1\", \"WHO 1\", \"I级\", \"I 级\", \"Ⅰ级\", \"Ⅰ 级\"]):\n",
    "        WHO_grade=1\n",
    "    else:\n",
    "        WHO_grade=\"\"\n",
    "        \n",
    "    return WHO_grade\n",
    "\n",
    "\n",
    "def analyze_lesion_location(patho_data):\n",
    "    lesion_location=patho_data.split(\"）\")[0]\n",
    "    start_index=lesion_location.find(\"（\")\n",
    "    \n",
    "    return lesion_location[start_index+1:]\n",
    "\n",
    "def analyze_gliomas_subtype(patho_data):\n",
    "    \n",
    "    \n",
    "    if any(_ in patho_data for _ in [\"胶质母细胞\", \"胶质瘤母细胞瘤\"]):\n",
    "        gliomas_subtype=\"胶质母细胞瘤\"\n",
    "    elif any(_ in patho_data for _ in [\"少突胶质细胞瘤\", \"少突细胞瘤\", \"少突细胞胶质瘤\", \"少突胶质细胞质瘤\"]):\n",
    "        gliomas_subtype=\"少突胶质瘤\"\n",
    "    elif any(_ in patho_data for _ in [\"星形细胞瘤\", \"星型细胞瘤\", \"星形胶质细胞瘤\", \"星形细胞胶质\", \"星型细胞胶质瘤\", \"星形胶质瘤\"]):\n",
    "        gliomas_subtype=\"星形细胞瘤\"\n",
    "    elif any(_ in patho_data for _ in [\"节细胞胶质瘤\", \"节细胞细胞胶质瘤\"]):\n",
    "        gliomas_subtype=\"节细胞胶质瘤\"   \n",
    "    elif any(_ in patho_data for _ in [\"中线胶质瘤\"]):\n",
    "        gliomas_subtype=\"中线胶质瘤\"         \n",
    "    else:\n",
    "        gliomas_subtype=\"\"\n",
    "    \n",
    "    return gliomas_subtype\n",
    "\n",
    "def analyze_gene_data(gene_data_list, gene_filter):\n",
    "    gene_data=\"\"\n",
    "    for data in gene_data_list:\n",
    "        if gene_filter in data:\n",
    "            gene_data=data\n",
    "        \n",
    "    return gene_data\n",
    "    "
   ]
  },
  {
   "cell_type": "code",
   "execution_count": 3,
   "metadata": {
    "scrolled": false,
    "ExecuteTime": {
     "end_time": "2023-07-08T10:00:30.731602500Z",
     "start_time": "2023-07-08T10:00:29.847352300Z"
    }
   },
   "outputs": [
    {
     "data": {
      "text/plain": "     PatientID        报告日期                                               病理诊断  \\\n0      4191886  2015-05-06  （左额顶部）高级别胶质瘤（星形细胞胶质瘤，区域室管膜瘤改变，WHOⅡ-Ⅲ级）。免疫组化结果：...   \n1      1593537  2014-07-07  （左额部）考虑星形细胞胶质瘤（WHOⅢ级）。免疫组化结果：GFAP（+），Ki67（约70%...   \n2      3357742  2014-05-28  （右侧丘脑）星形细胞胶质瘤Ⅱ- Ⅲ 级（大部分为Ⅱ级，小部分为 Ⅲ 级）。免疫组化结果：GF...   \n3      3270360  2014-07-15                    （颞枕顶叶，胶质瘤切除术后）多形性胶质母细胞瘤（WHOⅣ级）。   \n4      3850375  2014-11-25  （左枕顶）星形细胞胶质瘤Ⅳ级，伴坏死。免疫组化结果：GFAP（++），Ki67（+）约15-...   \n...        ...         ...                                                ...   \n2973  10383395         NaN  （右颞占位）高级别胶质瘤，待分子检测进一步明确。\\n免疫组化结果：GFAP（+），Ki67（...   \n2974  10586638         NaN  （右侧额叶）低级别胶质瘤，结合免疫组化及分子检测结果，倾向少突胶质细胞瘤，WHO2级。\\n免...   \n2975   9553737         NaN  （右额叶）IDH突变型少突胶质细胞瘤，伴1p/19q共缺失，WHO2级。\\n免疫组化结果：G...   \n2976   9478725         NaN  （四脑室）低级别胶质瘤，结合免疫组化，符合毛细胞型星形细胞瘤（WHOⅠ级）。\\n免疫组化结果...   \n2977  10130912         NaN  （左侧颞下回岛叶）低级别胶质瘤，结合免疫组化及基因检测结果诊断为少突胶质细胞瘤；WHO2级。...   \n\n       姓名   性别   年龄  \n0     虢惠玲    女  46岁  \n1      陈磊    男  32岁  \n2      任智    男  11岁  \n3     刘明山    男  49岁  \n4     刘福元    男  58岁  \n...   ...  ...  ...  \n2973   李龙  NaN  NaN  \n2974   万锦  NaN  NaN  \n2975  胡二妹  NaN  NaN  \n2976  戴紫乐  NaN  NaN  \n2977  龙永辉  NaN  NaN  \n\n[2978 rows x 6 columns]",
      "text/html": "<div>\n<style scoped>\n    .dataframe tbody tr th:only-of-type {\n        vertical-align: middle;\n    }\n\n    .dataframe tbody tr th {\n        vertical-align: top;\n    }\n\n    .dataframe thead th {\n        text-align: right;\n    }\n</style>\n<table border=\"1\" class=\"dataframe\">\n  <thead>\n    <tr style=\"text-align: right;\">\n      <th></th>\n      <th>PatientID</th>\n      <th>报告日期</th>\n      <th>病理诊断</th>\n      <th>姓名</th>\n      <th>性别</th>\n      <th>年龄</th>\n    </tr>\n  </thead>\n  <tbody>\n    <tr>\n      <th>0</th>\n      <td>4191886</td>\n      <td>2015-05-06</td>\n      <td>（左额顶部）高级别胶质瘤（星形细胞胶质瘤，区域室管膜瘤改变，WHOⅡ-Ⅲ级）。免疫组化结果：...</td>\n      <td>虢惠玲</td>\n      <td>女</td>\n      <td>46岁</td>\n    </tr>\n    <tr>\n      <th>1</th>\n      <td>1593537</td>\n      <td>2014-07-07</td>\n      <td>（左额部）考虑星形细胞胶质瘤（WHOⅢ级）。免疫组化结果：GFAP（+），Ki67（约70%...</td>\n      <td>陈磊</td>\n      <td>男</td>\n      <td>32岁</td>\n    </tr>\n    <tr>\n      <th>2</th>\n      <td>3357742</td>\n      <td>2014-05-28</td>\n      <td>（右侧丘脑）星形细胞胶质瘤Ⅱ- Ⅲ 级（大部分为Ⅱ级，小部分为 Ⅲ 级）。免疫组化结果：GF...</td>\n      <td>任智</td>\n      <td>男</td>\n      <td>11岁</td>\n    </tr>\n    <tr>\n      <th>3</th>\n      <td>3270360</td>\n      <td>2014-07-15</td>\n      <td>（颞枕顶叶，胶质瘤切除术后）多形性胶质母细胞瘤（WHOⅣ级）。</td>\n      <td>刘明山</td>\n      <td>男</td>\n      <td>49岁</td>\n    </tr>\n    <tr>\n      <th>4</th>\n      <td>3850375</td>\n      <td>2014-11-25</td>\n      <td>（左枕顶）星形细胞胶质瘤Ⅳ级，伴坏死。免疫组化结果：GFAP（++），Ki67（+）约15-...</td>\n      <td>刘福元</td>\n      <td>男</td>\n      <td>58岁</td>\n    </tr>\n    <tr>\n      <th>...</th>\n      <td>...</td>\n      <td>...</td>\n      <td>...</td>\n      <td>...</td>\n      <td>...</td>\n      <td>...</td>\n    </tr>\n    <tr>\n      <th>2973</th>\n      <td>10383395</td>\n      <td>NaN</td>\n      <td>（右颞占位）高级别胶质瘤，待分子检测进一步明确。\\n免疫组化结果：GFAP（+），Ki67（...</td>\n      <td>李龙</td>\n      <td>NaN</td>\n      <td>NaN</td>\n    </tr>\n    <tr>\n      <th>2974</th>\n      <td>10586638</td>\n      <td>NaN</td>\n      <td>（右侧额叶）低级别胶质瘤，结合免疫组化及分子检测结果，倾向少突胶质细胞瘤，WHO2级。\\n免...</td>\n      <td>万锦</td>\n      <td>NaN</td>\n      <td>NaN</td>\n    </tr>\n    <tr>\n      <th>2975</th>\n      <td>9553737</td>\n      <td>NaN</td>\n      <td>（右额叶）IDH突变型少突胶质细胞瘤，伴1p/19q共缺失，WHO2级。\\n免疫组化结果：G...</td>\n      <td>胡二妹</td>\n      <td>NaN</td>\n      <td>NaN</td>\n    </tr>\n    <tr>\n      <th>2976</th>\n      <td>9478725</td>\n      <td>NaN</td>\n      <td>（四脑室）低级别胶质瘤，结合免疫组化，符合毛细胞型星形细胞瘤（WHOⅠ级）。\\n免疫组化结果...</td>\n      <td>戴紫乐</td>\n      <td>NaN</td>\n      <td>NaN</td>\n    </tr>\n    <tr>\n      <th>2977</th>\n      <td>10130912</td>\n      <td>NaN</td>\n      <td>（左侧颞下回岛叶）低级别胶质瘤，结合免疫组化及基因检测结果诊断为少突胶质细胞瘤；WHO2级。...</td>\n      <td>龙永辉</td>\n      <td>NaN</td>\n      <td>NaN</td>\n    </tr>\n  </tbody>\n</table>\n<p>2978 rows × 6 columns</p>\n</div>"
     },
     "execution_count": 3,
     "metadata": {},
     "output_type": "execute_result"
    }
   ],
   "source": [
    "base_path=\"F:\\Code\\Medical\\Glioma_process\"\n",
    "excel_path=os.path.join(base_path, \"result_file/diagnose_info.xlsx\")\n",
    "save_excel_path=os.path.join(base_path, \"result_file/PathologicalData_DropNull_manualCorrected_analyzed.xlsx\")\n",
    "\n",
    "\n",
    "Data=pd.read_excel(excel_path,header=0)\n",
    "Data\n",
    "\n"
   ]
  },
  {
   "cell_type": "code",
   "execution_count": 4,
   "metadata": {
    "ExecuteTime": {
     "end_time": "2023-07-08T10:00:33.817242300Z",
     "start_time": "2023-07-08T10:00:30.731602500Z"
    }
   },
   "outputs": [
    {
     "ename": "AttributeError",
     "evalue": "'Series' object has no attribute 'split'",
     "output_type": "error",
     "traceback": [
      "\u001B[1;31m---------------------------------------------------------------------------\u001B[0m",
      "\u001B[1;31mAttributeError\u001B[0m                            Traceback (most recent call last)",
      "Cell \u001B[1;32mIn[4], line 3\u001B[0m\n\u001B[0;32m      1\u001B[0m \u001B[38;5;66;03m# pathological_data=Data[\"病理诊断（手动矫正版本）\"]\u001B[39;00m\n\u001B[0;32m      2\u001B[0m pathological_data\u001B[38;5;241m=\u001B[39mData\n\u001B[1;32m----> 3\u001B[0m Data[\u001B[38;5;124m\"\u001B[39m\u001B[38;5;124mpathological_data\u001B[39m\u001B[38;5;124m\"\u001B[39m],Data[\u001B[38;5;124m\"\u001B[39m\u001B[38;5;124mWHO_grade\u001B[39m\u001B[38;5;124m\"\u001B[39m], Data[\u001B[38;5;124m\"\u001B[39m\u001B[38;5;124mlesion_location\u001B[39m\u001B[38;5;124m\"\u001B[39m], Data[\u001B[38;5;124m\"\u001B[39m\u001B[38;5;124mgliomas_subtype\u001B[39m\u001B[38;5;124m\"\u001B[39m],Data[\u001B[38;5;124m\"\u001B[39m\u001B[38;5;124mgene_data\u001B[39m\u001B[38;5;124m\"\u001B[39m],Data[\u001B[38;5;124m\"\u001B[39m\u001B[38;5;124mgene_data_list\u001B[39m\u001B[38;5;124m\"\u001B[39m],Data[\u001B[38;5;124m\"\u001B[39m\u001B[38;5;124mGFAP\u001B[39m\u001B[38;5;124m\"\u001B[39m],Data[\u001B[38;5;124m\"\u001B[39m\u001B[38;5;124mKi67\u001B[39m\u001B[38;5;124m\"\u001B[39m],Data[\u001B[38;5;124m\"\u001B[39m\u001B[38;5;124mP53\u001B[39m\u001B[38;5;124m\"\u001B[39m],Data[\u001B[38;5;124m\"\u001B[39m\u001B[38;5;124mIDH\u001B[39m\u001B[38;5;124m\"\u001B[39m],Data[\u001B[38;5;124m\"\u001B[39m\u001B[38;5;124mH3_K27M\u001B[39m\u001B[38;5;124m\"\u001B[39m],Data[\u001B[38;5;124m\"\u001B[39m\u001B[38;5;124mOlig2\u001B[39m\u001B[38;5;124m\"\u001B[39m],Data[\u001B[38;5;124m\"\u001B[39m\u001B[38;5;124mEGFR\u001B[39m\u001B[38;5;124m\"\u001B[39m],Data[\u001B[38;5;124m\"\u001B[39m\u001B[38;5;124mATRX\u001B[39m\u001B[38;5;124m\"\u001B[39m], Data[\u001B[38;5;124m\"\u001B[39m\u001B[38;5;124mEMA\u001B[39m\u001B[38;5;124m\"\u001B[39m], Data[\u001B[38;5;124m\"\u001B[39m\u001B[38;5;124mCD34\u001B[39m\u001B[38;5;124m\"\u001B[39m], Data[\u001B[38;5;124m\"\u001B[39m\u001B[38;5;124mNeuN\u001B[39m\u001B[38;5;124m\"\u001B[39m], Data[\u001B[38;5;124m\"\u001B[39m\u001B[38;5;124mCgA\u001B[39m\u001B[38;5;124m\"\u001B[39m], Data[\u001B[38;5;124m\"\u001B[39m\u001B[38;5;124mSyn\u001B[39m\u001B[38;5;124m\"\u001B[39m]\u001B[38;5;241m=\u001B[39m\u001B[38;5;28mzip\u001B[39m(\u001B[38;5;241m*\u001B[39m\u001B[43mpathological_data\u001B[49m\u001B[38;5;241;43m.\u001B[39;49m\u001B[43mapply\u001B[49m\u001B[43m(\u001B[49m\u001B[43manalyze_pathological_data\u001B[49m\u001B[43m)\u001B[49m)\n\u001B[0;32m      4\u001B[0m Data\u001B[38;5;241m.\u001B[39mto_excel(save_excel_path)\n",
      "File \u001B[1;32mD:\\ProgramData\\anaconda3\\lib\\site-packages\\pandas\\core\\frame.py:9568\u001B[0m, in \u001B[0;36mDataFrame.apply\u001B[1;34m(self, func, axis, raw, result_type, args, **kwargs)\u001B[0m\n\u001B[0;32m   9557\u001B[0m \u001B[38;5;28;01mfrom\u001B[39;00m \u001B[38;5;21;01mpandas\u001B[39;00m\u001B[38;5;21;01m.\u001B[39;00m\u001B[38;5;21;01mcore\u001B[39;00m\u001B[38;5;21;01m.\u001B[39;00m\u001B[38;5;21;01mapply\u001B[39;00m \u001B[38;5;28;01mimport\u001B[39;00m frame_apply\n\u001B[0;32m   9559\u001B[0m op \u001B[38;5;241m=\u001B[39m frame_apply(\n\u001B[0;32m   9560\u001B[0m     \u001B[38;5;28mself\u001B[39m,\n\u001B[0;32m   9561\u001B[0m     func\u001B[38;5;241m=\u001B[39mfunc,\n\u001B[1;32m   (...)\u001B[0m\n\u001B[0;32m   9566\u001B[0m     kwargs\u001B[38;5;241m=\u001B[39mkwargs,\n\u001B[0;32m   9567\u001B[0m )\n\u001B[1;32m-> 9568\u001B[0m \u001B[38;5;28;01mreturn\u001B[39;00m \u001B[43mop\u001B[49m\u001B[38;5;241;43m.\u001B[39;49m\u001B[43mapply\u001B[49m\u001B[43m(\u001B[49m\u001B[43m)\u001B[49m\u001B[38;5;241m.\u001B[39m__finalize__(\u001B[38;5;28mself\u001B[39m, method\u001B[38;5;241m=\u001B[39m\u001B[38;5;124m\"\u001B[39m\u001B[38;5;124mapply\u001B[39m\u001B[38;5;124m\"\u001B[39m)\n",
      "File \u001B[1;32mD:\\ProgramData\\anaconda3\\lib\\site-packages\\pandas\\core\\apply.py:764\u001B[0m, in \u001B[0;36mFrameApply.apply\u001B[1;34m(self)\u001B[0m\n\u001B[0;32m    761\u001B[0m \u001B[38;5;28;01melif\u001B[39;00m \u001B[38;5;28mself\u001B[39m\u001B[38;5;241m.\u001B[39mraw:\n\u001B[0;32m    762\u001B[0m     \u001B[38;5;28;01mreturn\u001B[39;00m \u001B[38;5;28mself\u001B[39m\u001B[38;5;241m.\u001B[39mapply_raw()\n\u001B[1;32m--> 764\u001B[0m \u001B[38;5;28;01mreturn\u001B[39;00m \u001B[38;5;28;43mself\u001B[39;49m\u001B[38;5;241;43m.\u001B[39;49m\u001B[43mapply_standard\u001B[49m\u001B[43m(\u001B[49m\u001B[43m)\u001B[49m\n",
      "File \u001B[1;32mD:\\ProgramData\\anaconda3\\lib\\site-packages\\pandas\\core\\apply.py:891\u001B[0m, in \u001B[0;36mFrameApply.apply_standard\u001B[1;34m(self)\u001B[0m\n\u001B[0;32m    890\u001B[0m \u001B[38;5;28;01mdef\u001B[39;00m \u001B[38;5;21mapply_standard\u001B[39m(\u001B[38;5;28mself\u001B[39m):\n\u001B[1;32m--> 891\u001B[0m     results, res_index \u001B[38;5;241m=\u001B[39m \u001B[38;5;28;43mself\u001B[39;49m\u001B[38;5;241;43m.\u001B[39;49m\u001B[43mapply_series_generator\u001B[49m\u001B[43m(\u001B[49m\u001B[43m)\u001B[49m\n\u001B[0;32m    893\u001B[0m     \u001B[38;5;66;03m# wrap results\u001B[39;00m\n\u001B[0;32m    894\u001B[0m     \u001B[38;5;28;01mreturn\u001B[39;00m \u001B[38;5;28mself\u001B[39m\u001B[38;5;241m.\u001B[39mwrap_results(results, res_index)\n",
      "File \u001B[1;32mD:\\ProgramData\\anaconda3\\lib\\site-packages\\pandas\\core\\apply.py:907\u001B[0m, in \u001B[0;36mFrameApply.apply_series_generator\u001B[1;34m(self)\u001B[0m\n\u001B[0;32m    904\u001B[0m \u001B[38;5;28;01mwith\u001B[39;00m option_context(\u001B[38;5;124m\"\u001B[39m\u001B[38;5;124mmode.chained_assignment\u001B[39m\u001B[38;5;124m\"\u001B[39m, \u001B[38;5;28;01mNone\u001B[39;00m):\n\u001B[0;32m    905\u001B[0m     \u001B[38;5;28;01mfor\u001B[39;00m i, v \u001B[38;5;129;01min\u001B[39;00m \u001B[38;5;28menumerate\u001B[39m(series_gen):\n\u001B[0;32m    906\u001B[0m         \u001B[38;5;66;03m# ignore SettingWithCopy here in case the user mutates\u001B[39;00m\n\u001B[1;32m--> 907\u001B[0m         results[i] \u001B[38;5;241m=\u001B[39m \u001B[38;5;28;43mself\u001B[39;49m\u001B[38;5;241;43m.\u001B[39;49m\u001B[43mf\u001B[49m\u001B[43m(\u001B[49m\u001B[43mv\u001B[49m\u001B[43m)\u001B[49m\n\u001B[0;32m    908\u001B[0m         \u001B[38;5;28;01mif\u001B[39;00m \u001B[38;5;28misinstance\u001B[39m(results[i], ABCSeries):\n\u001B[0;32m    909\u001B[0m             \u001B[38;5;66;03m# If we have a view on v, we need to make a copy because\u001B[39;00m\n\u001B[0;32m    910\u001B[0m             \u001B[38;5;66;03m#  series_generator will swap out the underlying data\u001B[39;00m\n\u001B[0;32m    911\u001B[0m             results[i] \u001B[38;5;241m=\u001B[39m results[i]\u001B[38;5;241m.\u001B[39mcopy(deep\u001B[38;5;241m=\u001B[39m\u001B[38;5;28;01mFalse\u001B[39;00m)\n",
      "Cell \u001B[1;32mIn[2], line 5\u001B[0m, in \u001B[0;36manalyze_pathological_data\u001B[1;34m(data)\u001B[0m\n\u001B[0;32m      3\u001B[0m     data_split\u001B[38;5;241m=\u001B[39mdata\u001B[38;5;241m.\u001B[39msplit(\u001B[38;5;124m\"\u001B[39m\u001B[38;5;124m免疫组化结果：\u001B[39m\u001B[38;5;124m\"\u001B[39m)\n\u001B[0;32m      4\u001B[0m \u001B[38;5;28;01melse\u001B[39;00m:\n\u001B[1;32m----> 5\u001B[0m     data_split\u001B[38;5;241m=\u001B[39m\u001B[43mdata\u001B[49m\u001B[38;5;241;43m.\u001B[39;49m\u001B[43msplit\u001B[49m(\u001B[38;5;124m\"\u001B[39m\u001B[38;5;124m免疫组化：\u001B[39m\u001B[38;5;124m\"\u001B[39m)\n\u001B[0;32m      7\u001B[0m \u001B[38;5;124;03m\"\"\"\u001B[39;00m\n\u001B[0;32m      8\u001B[0m \u001B[38;5;124;03m1. Analyze the subtype and the WHO grade of gliomas;\u001B[39;00m\n\u001B[0;32m      9\u001B[0m \u001B[38;5;124;03m\"\"\"\u001B[39;00m\n\u001B[0;32m     10\u001B[0m patho_data\u001B[38;5;241m=\u001B[39mdata_split[\u001B[38;5;241m0\u001B[39m]\n",
      "File \u001B[1;32mD:\\ProgramData\\anaconda3\\lib\\site-packages\\pandas\\core\\generic.py:5902\u001B[0m, in \u001B[0;36mNDFrame.__getattr__\u001B[1;34m(self, name)\u001B[0m\n\u001B[0;32m   5895\u001B[0m \u001B[38;5;28;01mif\u001B[39;00m (\n\u001B[0;32m   5896\u001B[0m     name \u001B[38;5;129;01mnot\u001B[39;00m \u001B[38;5;129;01min\u001B[39;00m \u001B[38;5;28mself\u001B[39m\u001B[38;5;241m.\u001B[39m_internal_names_set\n\u001B[0;32m   5897\u001B[0m     \u001B[38;5;129;01mand\u001B[39;00m name \u001B[38;5;129;01mnot\u001B[39;00m \u001B[38;5;129;01min\u001B[39;00m \u001B[38;5;28mself\u001B[39m\u001B[38;5;241m.\u001B[39m_metadata\n\u001B[0;32m   5898\u001B[0m     \u001B[38;5;129;01mand\u001B[39;00m name \u001B[38;5;129;01mnot\u001B[39;00m \u001B[38;5;129;01min\u001B[39;00m \u001B[38;5;28mself\u001B[39m\u001B[38;5;241m.\u001B[39m_accessors\n\u001B[0;32m   5899\u001B[0m     \u001B[38;5;129;01mand\u001B[39;00m \u001B[38;5;28mself\u001B[39m\u001B[38;5;241m.\u001B[39m_info_axis\u001B[38;5;241m.\u001B[39m_can_hold_identifiers_and_holds_name(name)\n\u001B[0;32m   5900\u001B[0m ):\n\u001B[0;32m   5901\u001B[0m     \u001B[38;5;28;01mreturn\u001B[39;00m \u001B[38;5;28mself\u001B[39m[name]\n\u001B[1;32m-> 5902\u001B[0m \u001B[38;5;28;01mreturn\u001B[39;00m \u001B[38;5;28;43mobject\u001B[39;49m\u001B[38;5;241;43m.\u001B[39;49m\u001B[38;5;21;43m__getattribute__\u001B[39;49m\u001B[43m(\u001B[49m\u001B[38;5;28;43mself\u001B[39;49m\u001B[43m,\u001B[49m\u001B[43m \u001B[49m\u001B[43mname\u001B[49m\u001B[43m)\u001B[49m\n",
      "\u001B[1;31mAttributeError\u001B[0m: 'Series' object has no attribute 'split'"
     ]
    }
   ],
   "source": [
    "# pathological_data=Data[\"病理诊断（手动矫正版本）\"]\n",
    "pathological_data=Data\n",
    "Data[\"pathological_data\"],Data[\"WHO_grade\"], Data[\"lesion_location\"], Data[\"gliomas_subtype\"],Data[\"gene_data\"],Data[\"gene_data_list\"],Data[\"GFAP\"],Data[\"Ki67\"],Data[\"P53\"],Data[\"IDH\"],Data[\"H3_K27M\"],Data[\"Olig2\"],Data[\"EGFR\"],Data[\"ATRX\"], Data[\"EMA\"], Data[\"CD34\"], Data[\"NeuN\"], Data[\"CgA\"], Data[\"Syn\"]=zip(*pathological_data.apply(analyze_pathological_data))\n",
    "Data.to_excel(save_excel_path)\n",
    "\n"
   ]
  },
  {
   "cell_type": "code",
   "execution_count": null,
   "metadata": {},
   "outputs": [],
   "source": [
    "Data"
   ]
  },
  {
   "cell_type": "code",
   "execution_count": null,
   "metadata": {},
   "outputs": [],
   "source": []
  }
 ],
 "metadata": {
  "kernelspec": {
   "display_name": "Python 3 (ipykernel)",
   "language": "python",
   "name": "python3"
  },
  "language_info": {
   "codemirror_mode": {
    "name": "ipython",
    "version": 3
   },
   "file_extension": ".py",
   "mimetype": "text/x-python",
   "name": "python",
   "nbconvert_exporter": "python",
   "pygments_lexer": "ipython3",
   "version": "3.10.9"
  }
 },
 "nbformat": 4,
 "nbformat_minor": 4
}
