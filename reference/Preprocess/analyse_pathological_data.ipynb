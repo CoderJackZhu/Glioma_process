{
 "cells": [
  {
   "cell_type": "markdown",
   "metadata": {},
   "source": [
    "### Analyse the pathological data.\n"
   ]
  },
  {
   "cell_type": "code",
   "execution_count": null,
   "metadata": {},
   "outputs": [],
   "source": [
    "import os\n",
    "import re\n",
    "import pandas as pd"
   ]
  },
  {
   "cell_type": "code",
   "execution_count": null,
   "metadata": {},
   "outputs": [],
   "source": [
    "def analyze_pathological_data(data):\n",
    "    if \"免疫组化结果：\" in data:\n",
    "        data_split=data.split(\"免疫组化结果：\")\n",
    "    else:\n",
    "        data_split=data.split(\"免疫组化：\")\n",
    "    \n",
    "    \"\"\"\n",
    "    1. Analyze the subtype and the WHO grade of gliomas;\n",
    "    \"\"\"\n",
    "    patho_data=data_split[0]\n",
    "    patho_data=patho_data.replace(\"(\", \"（\");\n",
    "    patho_data=patho_data.replace(\")\", \"）\");\n",
    "    WHO_grade=analyze_WHO_grade(patho_data)\n",
    "    lesion_location=analyze_lesion_location(patho_data)\n",
    "    gliomas_subtype=analyze_gliomas_subtype(patho_data)\n",
    "    \n",
    "    \n",
    "    \"\"\"\n",
    "    2. Analyze the status of gene data.\n",
    "    \"\"\"\n",
    "    gene_data, gene_data_list, GFAP, Ki67, P53, IDH, H3_K27M, Olig2, EGFR, ATRX, EMA,  CD34, NeuN,  CgA, Syn=\"\", \"\", \"\", \"\", \"\",\"\", \"\", \"\", \"\", \"\", \"\", \"\", \"\", \"\",\"\" \n",
    "    \n",
    "    if len(data_split)>1:\n",
    "        gene_data=data_split[1]\n",
    "        gene_data=gene_data.replace(\"；\", \"，\");\n",
    "        gene_data=gene_data.replace(\"。\", \"，\");\n",
    "        gene_data=gene_data.replace(\",\", \"，\");\n",
    "        \n",
    "        gene_data_list=gene_data.split(\"，\")\n",
    "        GFAP=analyze_gene_data(gene_data_list, \"GFAP\")\n",
    "        Ki67=analyze_gene_data(gene_data_list, \"Ki67\")\n",
    "        P53=analyze_gene_data(gene_data_list, \"P53\")\n",
    "        IDH=analyze_gene_data(gene_data_list, \"IDH\")\n",
    "        H3_K27M=analyze_gene_data(gene_data_list, \"H3 K27M\")\n",
    "        Olig2=analyze_gene_data(gene_data_list, \"Olig2\")\n",
    "        EGFR=analyze_gene_data(gene_data_list, \"EGFR\")\n",
    "        ATRX=analyze_gene_data(gene_data_list, \"ATRX\")\n",
    "        EMA=analyze_gene_data(gene_data_list, \"EMA\")\n",
    "        CD34=analyze_gene_data(gene_data_list, \"CD34\")\n",
    "        NeuN=analyze_gene_data(gene_data_list, \"NeuN\")\n",
    "        CgA=analyze_gene_data(gene_data_list, \"CgA\")\n",
    "        Syn=analyze_gene_data(gene_data_list, \"Syn\")\n",
    "    \n",
    "    return patho_data, WHO_grade, lesion_location, gliomas_subtype, gene_data,gene_data_list,GFAP,Ki67,P53,IDH,H3_K27M,Olig2,EGFR,ATRX, EMA, CD34, NeuN, CgA, Syn\n",
    "\n",
    "\n",
    "def analyze_WHO_grade(patho_data):\n",
    "\n",
    "    if any(_ in patho_data for _ in [\"WHOⅣ\", \"WHO Ⅳ\", \"WHOIV\", \"WHO IV\", \"WHO4\", \"WHO 4\", \"Ⅳ级\", \"Ⅳ 级\", \"IV级\", \"IV 级\"]):\n",
    "        WHO_grade=4\n",
    "    elif any(_ in patho_data for _ in [\"WHOⅢ\", \"WHO Ⅲ\", \"WHOIII\", \"WHO III\", \"WHO3\", \"WHO 3\", \"Ⅲ级\", \"Ⅲ 级\", \"III级\", \"III 级\"]):\n",
    "        WHO_grade=3\n",
    "    elif any(_ in patho_data for _ in [\"WHOⅡ\", \"WHO Ⅱ\", \"WHO II\", \"WHOII\", \"WHO2\", \"WHO 2\", \"Ⅱ级\", \"Ⅱ 级\", \"II级\", \"II 级\"]):\n",
    "        WHO_grade=2\n",
    "    elif any(_ in patho_data for _ in [\"WHOⅠ\", \"WHO Ⅰ\", \"WHOI\", \"WHO I\", \"WHO1\", \"WHO 1\", \"I级\", \"I 级\", \"Ⅰ级\", \"Ⅰ 级\"]):\n",
    "        WHO_grade=1\n",
    "    else:\n",
    "        WHO_grade=\"\"\n",
    "        \n",
    "    return WHO_grade\n",
    "\n",
    "\n",
    "def analyze_lesion_location(patho_data):\n",
    "    lesion_location=patho_data.split(\"）\")[0]\n",
    "    start_index=lesion_location.find(\"（\")\n",
    "    \n",
    "    return lesion_location[start_index+1:]\n",
    "\n",
    "def analyze_gliomas_subtype(patho_data):\n",
    "    \n",
    "    \n",
    "    if any(_ in patho_data for _ in [\"胶质母细胞\", \"胶质瘤母细胞瘤\"]):\n",
    "        gliomas_subtype=\"胶质母细胞瘤\"\n",
    "    elif any(_ in patho_data for _ in [\"少突胶质细胞瘤\", \"少突细胞瘤\", \"少突细胞胶质瘤\", \"少突胶质细胞质瘤\"]):\n",
    "        gliomas_subtype=\"少突胶质瘤\"\n",
    "    elif any(_ in patho_data for _ in [\"星形细胞瘤\", \"星型细胞瘤\", \"星形胶质细胞瘤\", \"星形细胞胶质\", \"星型细胞胶质瘤\", \"星形胶质瘤\"]):\n",
    "        gliomas_subtype=\"星形细胞瘤\"\n",
    "    elif any(_ in patho_data for _ in [\"节细胞胶质瘤\", \"节细胞细胞胶质瘤\"]):\n",
    "        gliomas_subtype=\"节细胞胶质瘤\"   \n",
    "    elif any(_ in patho_data for _ in [\"中线胶质瘤\"]):\n",
    "        gliomas_subtype=\"中线胶质瘤\"         \n",
    "    else:\n",
    "        gliomas_subtype=\"\"\n",
    "    \n",
    "    return gliomas_subtype\n",
    "\n",
    "def analyze_gene_data(gene_data_list, gene_filter):\n",
    "    gene_data=\"\"\n",
    "    for data in gene_data_list:\n",
    "        if gene_filter in data:\n",
    "            gene_data=data\n",
    "        \n",
    "    return gene_data\n",
    "    "
   ]
  },
  {
   "cell_type": "code",
   "execution_count": null,
   "metadata": {
    "scrolled": false
   },
   "outputs": [],
   "source": [
    "base_path=\"G://metaData\"\n",
    "excel_path=os.path.join(base_path, \"PathologicalData_DropNull_manualCorrected.xls\")\n",
    "save_excel_path=os.path.join(base_path, \"PathologicalData_DropNull_manualCorrected_analyzed.xlsx\")\n",
    "\n",
    "\n",
    "Data=pd.read_excel(excel_path,header=0) \n",
    "Data\n",
    "\n",
    "pathological_data=Data[\"病理诊断（手动矫正版本）\"]\n",
    "Data[\"pathological_data\"],Data[\"WHO_grade\"], Data[\"lesion_location\"], Data[\"gliomas_subtype\"],Data[\"gene_data\"],Data[\"gene_data_list\"],Data[\"GFAP\"],Data[\"Ki67\"],Data[\"P53\"],Data[\"IDH\"],Data[\"H3_K27M\"],Data[\"Olig2\"],Data[\"EGFR\"],Data[\"ATRX\"], Data[\"EMA\"], Data[\"CD34\"], Data[\"NeuN\"], Data[\"CgA\"], Data[\"Syn\"]=zip(*pathological_data.apply(analyze_pathological_data))\n",
    "Data.to_excel(save_excel_path)\n",
    "\n",
    "Data"
   ]
  },
  {
   "cell_type": "code",
   "execution_count": null,
   "metadata": {},
   "outputs": [],
   "source": []
  },
  {
   "cell_type": "code",
   "execution_count": null,
   "metadata": {},
   "outputs": [],
   "source": []
  },
  {
   "cell_type": "code",
   "execution_count": null,
   "metadata": {},
   "outputs": [],
   "source": []
  }
 ],
 "metadata": {
  "kernelspec": {
   "display_name": "Python 3",
   "language": "python",
   "name": "python3"
  },
  "language_info": {
   "codemirror_mode": {
    "name": "ipython",
    "version": 3
   },
   "file_extension": ".py",
   "mimetype": "text/x-python",
   "name": "python",
   "nbconvert_exporter": "python",
   "pygments_lexer": "ipython3",
   "version": "3.7.9"
  }
 },
 "nbformat": 4,
 "nbformat_minor": 4
}
