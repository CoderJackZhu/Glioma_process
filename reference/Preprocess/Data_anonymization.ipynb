{
 "cells": [
  {
   "cell_type": "markdown",
   "metadata": {},
   "source": [
    "# Anonymize the patient information.\n",
    "- Anonymize the clinical information in excel;\n",
    "- Anonymize the patient information in the DICOM or Nifti imaging data."
   ]
  },
  {
   "cell_type": "code",
   "execution_count": null,
   "metadata": {},
   "outputs": [],
   "source": [
    "import os\n",
    "from sklearn.utils import shuffle\n",
    "import pandas as pd\n",
    "import pinyin"
   ]
  },
  {
   "cell_type": "code",
   "execution_count": null,
   "metadata": {},
   "outputs": [],
   "source": [
    "\"\"\"\n",
    "Determine whether a char is Chinese.\n",
    "\"\"\"\n",
    "def is_chinese(char):\n",
    "    if '\\u4e00' <= char <= '\\u9fff':\n",
    "        return True\n",
    "    else:\n",
    "        return False\n",
    "    \n",
    "\"\"\"\n",
    "Convert a Chinese character/pinyin to Pinyin initials.\n",
    "\"\"\"\n",
    "def convert_Chinese_to_PinyinInitials(x):\n",
    "    x=str(x)\n",
    "    x=x.replace(\"  \", \" \")\n",
    "    pinyin_initial=\"\"\n",
    "    if x!=\"\":\n",
    "        if is_chinese(x) :\n",
    "            pinyin_initial=pinyin.get_initial(x, delimiter=\"\").upper() \n",
    "        else:\n",
    "            pinyin_initial=pinyin_initial.join([i[0].upper() for i in str(x).split(\" \")])\n",
    "    return pinyin_initial\n",
    "\n",
    "    \n",
    "    "
   ]
  },
  {
   "cell_type": "code",
   "execution_count": null,
   "metadata": {},
   "outputs": [],
   "source": [
    "\"\"\"\n",
    "Anonymize the patient ID and patient name.\n",
    "\"\"\"\n",
    "def create_anonymous_table(excel_path, anonymize_id_column, anonymize_name_column, save_base_path):\n",
    "    \n",
    "    #read the data\n",
    "    Data=pd.read_excel(excel_path,index_col=0, header=0) \n",
    "    num_samples=Data.shape[0]\n",
    "    num_columns=Data.shape[1]\n",
    "    print(\"- Number of patients: {}. \\n - Number of Columns: {}.\\n\".format(num_samples, num_columns))\n",
    "    print(\"\\n -----------------Original Data----------------\\n {}.\".format(Data.head(10)))\n",
    "    \n",
    "    #randomly shuffle the patients\n",
    "    shuffled_Data = shuffle(Data, random_state=0)\n",
    "    print(\"\\n Shuffle the patients randomly.......\")\n",
    "    \n",
    "#     #check the shuffle results\n",
    "#     Data_sorted=Data.sort_values(anonymous_column,inplace=True)\n",
    "#     shuffled_Data_sorted=shuffled_Data.sort_values(anonymous_column,inplace=True)\n",
    "#     assert(shuffled_Data_sorted == Data_sorted)\n",
    "    \n",
    "    # Anonymize the patient id column.\n",
    "    Anonymous_Data=shuffled_Data \n",
    "    anonymized_id_column_=anonymize_id_column+\"_anonymized\"\n",
    "    Anonymous_Data[anonymized_id_column_]=range(1,num_samples+1)\n",
    "    Anonymous_Data[anonymized_id_column_] = Anonymous_Data[anonymized_id_column_].map(lambda i: \"Gliomas_\"+str(i).zfill(5))\n",
    "    #Anonymous_Data.set_index(anonymized_id_column_,drop=True, inplace=True) \n",
    "    print(\"\\n Anonymize the patient id successfully.......\")\n",
    "    \n",
    "    # Anonymize the patient name.\n",
    "    if anonymize_name_column!=[]:\n",
    "        anonymized_name_column_=anonymize_name_column+\"_anonymized\"\n",
    "        Anonymous_Data[anonymized_name_column_] = Anonymous_Data[anonymize_name_column].apply(convert_Chinese_to_PinyinInitials)\n",
    "        print(\"\\n Anonymize the patient name successfully.......\")\n",
    "    \n",
    "    \n",
    "    #save the anonymous table to excel.           \n",
    "    save_anonymous_table_path=save_base_path+'/anonymous_table.xlsx'\n",
    "    Anonymous_Data=Anonymous_Data.reset_index()\n",
    "    Anonymous_table=Anonymous_Data[[anonymize_id_column, anonymized_id_column_, anonymize_name_column, anonymized_name_column_]]\n",
    "    Anonymous_table.to_excel(save_anonymous_table_path)\n",
    "    print(\"\\n ------------Anonymous table--------------\\n {}.\".format(Anonymous_table.head(10)))\n",
    "    print('\\n Anonymous table has been saved sucessfully to :', save_anonymous_table_path)\n",
    "    \n",
    "    #Drop the patient inforamtion which is not anonymized.\n",
    "    Anonymous_Data=Anonymous_Data.drop([anonymize_id_column, anonymize_name_column], axis=1)\n",
    "    \n",
    "    #save the anonymized data;\n",
    "    save_anonymous_data_path=save_base_path+\"/\"+os.path.basename(excel_path)[:-5]+'_anonymized.xlsx'\n",
    "    Anonymous_Data.to_excel(save_anonymous_data_path)\n",
    "    print(\"\\n ------------Anonymized Data--------------\\n {}.\".format(Anonymous_Data.head(10)))\n",
    "    print('\\n Anonymized data has been saved sucessfully to :', save_anonymous_data_path)"
   ]
  },
  {
   "cell_type": "markdown",
   "metadata": {},
   "source": [
    "### Main"
   ]
  },
  {
   "cell_type": "code",
   "execution_count": null,
   "metadata": {},
   "outputs": [],
   "source": [
    "excel_path=\"G://metaData/All_patientID.xlsx\"\n",
    "save_base_path=\"G://metaData\"\n",
    "anonymize_id_column=\"PatientID\"\n",
    "anonymize_name_column=\"PatientName\"\n",
    "drop_columns=[\"PatientName\"]\n",
    "create_anonymous_table(excel_path, anonymize_id_column, anonymize_name_column, save_base_path)"
   ]
  },
  {
   "cell_type": "code",
   "execution_count": null,
   "metadata": {},
   "outputs": [],
   "source": []
  },
  {
   "cell_type": "code",
   "execution_count": null,
   "metadata": {},
   "outputs": [],
   "source": []
  },
  {
   "cell_type": "code",
   "execution_count": null,
   "metadata": {},
   "outputs": [],
   "source": []
  },
  {
   "cell_type": "code",
   "execution_count": null,
   "metadata": {},
   "outputs": [],
   "source": []
  }
 ],
 "metadata": {
  "kernelspec": {
   "display_name": "Python 3",
   "language": "python",
   "name": "python3"
  },
  "language_info": {
   "codemirror_mode": {
    "name": "ipython",
    "version": 3
   },
   "file_extension": ".py",
   "mimetype": "text/x-python",
   "name": "python",
   "nbconvert_exporter": "python",
   "pygments_lexer": "ipython3",
   "version": "3.7.9"
  }
 },
 "nbformat": 4,
 "nbformat_minor": 4
}
