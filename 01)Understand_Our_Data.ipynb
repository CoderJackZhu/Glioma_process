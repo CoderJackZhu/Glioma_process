{
 "cells": [
  {
   "cell_type": "markdown",
   "metadata": {},
   "source": [
    "# Analyze the raw dcm images.\n",
    "\n",
    "Now we have the raw data from Dr. AMMARI, and we need to do some data preprocessing and extract the useful information for further research.\n",
    "\n",
    "- 1) We have only dicom image data, but all the information for each image are saved in the dicom files, we need to analyze it.We define the DcmData.py class to do it. The arranged data information are saved in AllDatas.xlsx.\n",
    "\n",
    "\n",
    "- 2) The images are from different series, and we need to arrange the information by series, and design our experiements based on series. Results are saved in All_SeriesInfo.xlsx.\n",
    "\n",
    "\n",
    "- 3) There are some kinds of image types, but in our first stage of experiments, we will only use T1 imags. Results are saved in T1_SeriesInfo.xlsx.\n",
    "\n",
    "\n",
    "- 4) For each T1 series, we will resave the images as .nii.gz images.\n",
    "\n"
   ]
  },
  {
   "cell_type": "code",
   "execution_count": null,
   "metadata": {},
   "outputs": [],
   "source": [
    "import os\n",
    "import pandas as pd\n",
    "import numpy as np\n",
    "import shutil\n",
    "\n",
    "from DcmData import DcmData\n",
    "from analyzeSettings import *\n",
    "import sys\n",
    "sys.path.append(\"../\")\n",
    "from utils.myUtils import get_filenames, dcm2nii, mkdir, show_nii_image_slices"
   ]
  },
  {
   "cell_type": "markdown",
   "metadata": {},
   "source": [
    "### 1) Extract useful information from the dicom files, and save them in AllDatas.xlsx file."
   ]
  },
  {
   "cell_type": "code",
   "execution_count": null,
   "metadata": {
    "scrolled": true
   },
   "outputs": [],
   "source": [
    "def extract_infos_from_dicoms(patient, original_image_path, save_excel_path, show_logs=False):\n",
    "    '''\n",
    "    get information from each dicom file, and save them in a dataframe.\n",
    "    '''\n",
    "    \n",
    "    fileList=get_filenames(original_image_path, filter_list=None)\n",
    "    print('There are totally {} images in {}.'.format(len(fileList),original_image_path))\n",
    "\n",
    "    i=0\n",
    "    for file in fileList:\n",
    "\n",
    "        # get image information from dicom image\n",
    "        dcmInfo=DcmData(patient, file)\n",
    "        dataInfos=dcmInfo.get_dataInfos() \n",
    "        \n",
    "        # save these image informations to a DataFrame\n",
    "        dataInfos = pd.DataFrame(dataInfos,index = [i])\n",
    "        if i==0:\n",
    "            MyData = dataInfos\n",
    "        else:      \n",
    "            MyData=pd.concat([MyData,dataInfos])\n",
    "\n",
    "        i=i+1\n",
    "            \n",
    "        # show the logs, used for debug\n",
    "        if show_logs:\n",
    "            print('*************************************************************************')\n",
    "            print(file)\n",
    "            print(dataInfos)\n",
    "            dcmInfo.show_all_attributes()\n",
    "            \n",
    "        \n",
    "        \n",
    "    #Save the Dataframe to a excel file\n",
    "    MyData.reset_index(drop=True, inplace=True)\n",
    "    MyData.to_excel(save_excel_path)\n",
    "    print('Sucessfully save data information in {}.\\n'.format(save_excel_path))\n",
    "    \n",
    "\n",
    "def main_extract_allDataInfo():\n",
    "    Original_ImagePathList=get_Original_ImagePathList()\n",
    "    AllData_ExcelList=get_AllData_ExcelList()\n",
    "\n",
    "    for key, original_image_path in Original_ImagePathList.items():\n",
    "        patient=key.split(\"_\")[0]\n",
    "        save_excel_path=AllData_ExcelList[key]\n",
    "        extract_infos_from_dicoms(patient, original_image_path,save_excel_path)"
   ]
  },
  {
   "cell_type": "code",
   "execution_count": null,
   "metadata": {},
   "outputs": [],
   "source": [
    "main_extract_allDataInfo()"
   ]
  },
  {
   "cell_type": "markdown",
   "metadata": {},
   "source": [
    "### 2) Extract the information for all series and for T1 series; And resave T1 series images in a .nii.gz file."
   ]
  },
  {
   "cell_type": "code",
   "execution_count": null,
   "metadata": {},
   "outputs": [],
   "source": [
    "\n",
    "def extract_series_infos(original_image_path, all_data_excel_path, save_all_series_excel_path, save_T1_excel_path, save_nii_basepath):\n",
    "    #read the data information from the excel\n",
    "    all_data=pd.read_excel(all_data_excel_path)\n",
    "       \n",
    "    # Define a dataframe to save the series information.\n",
    "    slice_info_name_list=['Patient', 'FOV', 'Matrix', 'MagneticFieldStrength', 'ImageType','MRAcquisitionType','SeriesDescription']\n",
    "    statistic_list=['SeriesNumber', 'NumberOfImages', 'ReTest']+slice_info_name_list\n",
    "    AllSeries_Info=pd.DataFrame(columns=statistic_list)\n",
    "    \n",
    "    #add the information of the SeriesNumber and NumberOfImages\n",
    "    SeriesNumber=all_data['SeriesNumber'].value_counts()\n",
    "    AllSeries_Info['SeriesNumber']=SeriesNumber.index\n",
    "    AllSeries_Info['NumberOfImages']=SeriesNumber.values\n",
    "    AllSeries_Info=AllSeries_Info.sort_values(by=\"SeriesNumber\" , ascending=True)\n",
    "    AllSeries_Info.reset_index(drop=True, inplace=True)\n",
    "    \n",
    "    \n",
    "    #add the other information for each series.\n",
    "    for series in AllSeries_Info['SeriesNumber']:\n",
    "        data_in_series_i=all_data.loc[all_data[\"SeriesNumber\"]==series]\n",
    "        \n",
    "        #extract the info for a series\n",
    "        for attribute in slice_info_name_list:\n",
    "            value=data_in_series_i[attribute].unique()\n",
    "            AllSeries_Info.loc[AllSeries_Info[\"SeriesNumber\"]==series,attribute] = value\n",
    "\n",
    "    \n",
    "        #judge the series is a test experiment or a re-test experiment \n",
    "        desription=AllSeries_Info.loc[AllSeries_Info[\"SeriesNumber\"]==series,'SeriesDescription'].iloc[0]\n",
    "        AllSeries_Info.loc[AllSeries_Info[\"SeriesNumber\"]==series,'ReTest'] =True if ( 'TARDIF' in  desription or  'TARDIVE' in  desription ) else False\n",
    "        \n",
    "        #resave T1 images\n",
    "        series_info=AllSeries_Info.loc[AllSeries_Info[\"SeriesNumber\"]==series]\n",
    "        if series_info['ImageType'].iloc[0]=='T1':\n",
    "            series_file_paths=[os.path.join(original_image_path, image_name) for image_name in data_in_series_i['ImageName']]\n",
    "            save_T1_images(series_file_paths, save_nii_basepath, series_info)\n",
    "\n",
    "        \n",
    "        \n",
    "    # filter data with condition: ImageType==T1\n",
    "    T1_Series_Info=AllSeries_Info.loc[ AllSeries_Info[\"ImageType\"] .isin(['T1'])]\n",
    "    #T1_Series_Info=T1_Series_Info[~ T1_Series_Info[\"SeriesDescription\"].str.contains('TARDIF|TARDIVE')]\n",
    "    T1_Series_Info.reset_index(drop=True, inplace=True)\n",
    "    \n",
    "    #Save the statistic information into the excel.\n",
    "    AllSeries_Info.to_excel(save_all_series_excel_path)        \n",
    "    T1_Series_Info.to_excel(save_T1_excel_path)\n",
    "    print('\\nSucessfully save the statistic information in {} and {}.'.format(save_all_series_excel_path,save_T1_excel_path)) \n",
    "    \n",
    "    return AllSeries_Info,T1_Series_Info\n",
    "\n",
    "def save_T1_images(series_file_paths, save_image_basepath, series_info, show_resaved_nii=False):  \n",
    "    \n",
    "    patient=str(series_info['Patient'].iloc[0])\n",
    "    series_number=str(series_info['SeriesNumber'].iloc[0])\n",
    "    series_FOV=str(int(series_info['FOV'].iloc[0]))\n",
    "    series_matrix=str(series_info['Matrix'].iloc[0])\n",
    "    series_magnetic=str(series_info['MagneticFieldStrength'].iloc[0])\n",
    "    dest_nii_basename=patient+'_Series-'+series_number+'_FOV-'+series_FOV+'_matrix-'+series_matrix+'_'+series_magnetic+'T'\n",
    "    \n",
    "    #nii file path to save .nii file\n",
    "    save_image_basepath=os.path.join(save_image_basepath, dest_nii_basename)\n",
    "    dest_nii_filepath=os.path.join(save_image_basepath, dest_nii_basename+'.nii.gz')\n",
    "    \n",
    "    #copy the files to one folder for resaving them as .nii file.\n",
    "    save_dcm_basepath=os.path.join(save_image_basepath, series_number)\n",
    "    mkdir(save_dcm_basepath)\n",
    "    for file_path in series_file_paths:\n",
    "        shutil.copy(file_path, os.path.join(save_dcm_basepath, os.path.basename(file_path)))\n",
    "        \n",
    "    #resave dcm files as a .nii file.\n",
    "    dcm2nii(save_dcm_basepath, dest_nii_filepath)\n",
    "    shutil.rmtree(save_dcm_basepath)\n",
    "\n",
    "    #show the resaved .nii image to check\n",
    "    if show_resaved_nii:\n",
    "        show_nii_image_slices(dest_nii_filepath)\n",
    "        "
   ]
  },
  {
   "cell_type": "code",
   "execution_count": null,
   "metadata": {
    "scrolled": true
   },
   "outputs": [],
   "source": [
    "\n",
    "def main_extract_series_info():\n",
    "    Original_ImagePathList=get_Original_ImagePathList()\n",
    "    AllData_ExcelList=get_AllData_ExcelList()\n",
    "    AllSeries_ExcelList=get_AllSeries_ExcelList()\n",
    "    T1_ExcelList=get_T1_ExcelList()\n",
    "    nii_basepathList=get_nii_basepath()\n",
    "    \n",
    "    for key,all_data_excel_path in AllData_ExcelList.items():\n",
    "        print('\\n\\n**************************   {}  **********************************'.format(key))\n",
    "        original_image_path=Original_ImagePathList[key]\n",
    "        save_all_series_excel_path=AllSeries_ExcelList[key]\n",
    "        save_T1_excel_path=T1_ExcelList[key]\n",
    "        save_nii_basepath=nii_basepathList[key]\n",
    "\n",
    "        Series_Info,T1_Series_Info=extract_series_infos(original_image_path, all_data_excel_path,\n",
    "                                                       save_all_series_excel_path, save_T1_excel_path, save_nii_basepath)\n",
    "        \n",
    "        print('\\n----------------------  Statistic for T1 images -------------------------\\n',T1_Series_Info) \n"
   ]
  },
  {
   "cell_type": "code",
   "execution_count": null,
   "metadata": {},
   "outputs": [],
   "source": [
    "main_extract_series_info()"
   ]
  },
  {
   "cell_type": "code",
   "execution_count": null,
   "metadata": {
    "scrolled": false
   },
   "outputs": [],
   "source": []
  },
  {
   "cell_type": "code",
   "execution_count": null,
   "metadata": {},
   "outputs": [],
   "source": []
  },
  {
   "cell_type": "code",
   "execution_count": null,
   "metadata": {
    "scrolled": false
   },
   "outputs": [],
   "source": []
  },
  {
   "cell_type": "code",
   "execution_count": null,
   "metadata": {
    "scrolled": true
   },
   "outputs": [],
   "source": []
  },
  {
   "cell_type": "code",
   "execution_count": null,
   "metadata": {
    "scrolled": true
   },
   "outputs": [],
   "source": []
  },
  {
   "cell_type": "code",
   "execution_count": null,
   "metadata": {},
   "outputs": [],
   "source": []
  },
  {
   "cell_type": "code",
   "execution_count": null,
   "metadata": {},
   "outputs": [],
   "source": []
  }
 ],
 "metadata": {
  "kernelspec": {
   "display_name": "Python 3",
   "language": "python",
   "name": "python3"
  },
  "language_info": {
   "codemirror_mode": {
    "name": "ipython",
    "version": 3
   },
   "file_extension": ".py",
   "mimetype": "text/x-python",
   "name": "python",
   "nbconvert_exporter": "python",
   "pygments_lexer": "ipython3",
   "version": "3.7.9"
  }
 },
 "nbformat": 4,
 "nbformat_minor": 2
}
